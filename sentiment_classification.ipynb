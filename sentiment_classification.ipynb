{
  "cells": [
    {
      "cell_type": "code",
      "execution_count": 2,
      "metadata": {
        "id": "2nTsDB-S4V-X"
      },
      "outputs": [],
      "source": [
        "import os\n",
        "import numpy as np\n",
        "import matplotlib.pyplot as plt\n",
        "\n",
        "from bs4 import BeautifulSoup\n",
        "import re"
      ]
    },
    {
      "cell_type": "code",
      "execution_count": 3,
      "metadata": {
        "id": "rhg6tbdNzpxQ"
      },
      "outputs": [],
      "source": [
        "import nltk\n",
        "\n",
        "from nltk.tokenize import word_tokenize\n",
        "from nltk.stem import WordNetLemmatizer"
      ]
    },
    {
      "cell_type": "code",
      "execution_count": null,
      "metadata": {
        "id": "w1qk7rPXz9O4"
      },
      "outputs": [],
      "source": [
        "nltk.download()\n"
      ]
    },
    {
      "cell_type": "code",
      "execution_count": 5,
      "metadata": {
        "id": "c5UBqK_e0reb"
      },
      "outputs": [],
      "source": [
        "from tensorflow.keras.preprocessing.text import Tokenizer\n",
        "from tensorflow.keras.preprocessing.sequence import pad_sequences\n"
      ]
    },
    {
      "cell_type": "code",
      "execution_count": 6,
      "metadata": {
        "id": "egbpY1nWzXVn"
      },
      "outputs": [],
      "source": [
        "from keras.models import Sequential\n",
        "from keras.layers import Embedding\n",
        "import tensorflow as tf\n",
        "from keras.utils.vis_utils import plot_model"
      ]
    },
    {
      "cell_type": "markdown",
      "metadata": {
        "id": "9hDNt1FH3a_Z"
      },
      "source": [
        "## Extracting The Files"
      ]
    },
    {
      "cell_type": "code",
      "execution_count": 7,
      "metadata": {
        "colab": {
          "base_uri": "https://localhost:8080/"
        },
        "id": "XXWNAaMHsMCY",
        "outputId": "fa9f59d0-a6d5-43bc-c20d-0d350a9a9a3f"
      },
      "outputs": [
        {
          "name": "stdout",
          "output_type": "stream",
          "text": [
            "sorted_data_acl/dvd/negative.review\n",
            "sorted_data_acl/dvd/unlabeled.review\n",
            "sorted_data_acl/dvd/positive.review\n",
            "sorted_data_acl/kitchen_&_housewares/negative.review\n",
            "sorted_data_acl/kitchen_&_housewares/unlabeled.review\n",
            "sorted_data_acl/kitchen_&_housewares/positive.review\n",
            "sorted_data_acl/books/negative.review\n",
            "sorted_data_acl/books/positive.review\n",
            "sorted_data_acl/electronics/negative.review\n",
            "sorted_data_acl/electronics/unlabeled.review\n",
            "sorted_data_acl/electronics/positive.review\n"
          ]
        }
      ],
      "source": [
        "!tar -xvf  '/content/domain_sentiment_data.tar.gz' "
      ]
    },
    {
      "cell_type": "code",
      "execution_count": 8,
      "metadata": {
        "colab": {
          "base_uri": "https://localhost:8080/"
        },
        "id": "jt5J5Zfq4r-w",
        "outputId": "739b70bd-27d2-420b-e45a-d46801f2526f"
      },
      "outputs": [
        {
          "data": {
            "text/plain": [
              "['.config', 'domain_sentiment_data.tar.gz', 'sample_data', 'sorted_data_acl']"
            ]
          },
          "execution_count": 8,
          "metadata": {},
          "output_type": "execute_result"
        }
      ],
      "source": [
        "sorted(os.listdir(f'/content'))\n"
      ]
    },
    {
      "cell_type": "markdown",
      "metadata": {
        "id": "wmT5yytKZZQ_"
      },
      "source": [
        "## Getting Files Full Path"
      ]
    },
    {
      "cell_type": "code",
      "execution_count": 9,
      "metadata": {
        "colab": {
          "base_uri": "https://localhost:8080/"
        },
        "id": "PE02aaTE4UHJ",
        "outputId": "936e0222-1e54-4826-f680-6d6272b7f282"
      },
      "outputs": [
        {
          "name": "stdout",
          "output_type": "stream",
          "text": [
            "Current Domain is books\n",
            "['negative.review', 'positive.review']\n",
            "/content/sorted_data_acl/books/negative.review\n",
            "/content/sorted_data_acl/books/positive.review\n",
            "\n",
            "\n",
            "Current Domain is dvd\n",
            "['negative.review', 'positive.review', 'unlabeled.review']\n",
            "/content/sorted_data_acl/dvd/negative.review\n",
            "/content/sorted_data_acl/dvd/positive.review\n",
            "/content/sorted_data_acl/dvd/unlabeled.review\n",
            "\n",
            "\n",
            "Current Domain is electronics\n",
            "['negative.review', 'positive.review', 'unlabeled.review']\n",
            "/content/sorted_data_acl/electronics/negative.review\n",
            "/content/sorted_data_acl/electronics/positive.review\n",
            "/content/sorted_data_acl/electronics/unlabeled.review\n",
            "\n",
            "\n",
            "Current Domain is kitchen_&_housewares\n",
            "['negative.review', 'positive.review', 'unlabeled.review']\n",
            "/content/sorted_data_acl/kitchen_&_housewares/negative.review\n",
            "/content/sorted_data_acl/kitchen_&_housewares/positive.review\n",
            "/content/sorted_data_acl/kitchen_&_housewares/unlabeled.review\n",
            "\n",
            "\n"
          ]
        }
      ],
      "source": [
        "domains_path = \"/content/sorted_data_acl\"\n",
        "\n",
        "X_train_paths = {}\n",
        "X_test_paths = {}\n",
        "\n",
        "\n",
        "for domain in sorted(os.listdir(f'{domains_path}')):\n",
        "  print(f'Current Domain is {domain}')\n",
        "  domain_files = sorted(os.listdir(f'{domains_path}/{domain}'))\n",
        "\n",
        "  print(domain_files)\n",
        "  for file in  domain_files:\n",
        "    print(f'{domains_path}/{domain}/{file}')\n",
        "\n",
        "    current_file =  f'{domains_path}/{domain}/{file}'\n",
        "    sentiment = file.split(\".\")[0] \n",
        "\n",
        "    if sentiment == \"unlabeled\" :\n",
        "      continue \n",
        "\n",
        "    if domain == \"kitchen_&_housewares\":\n",
        "      X_test_paths[ current_file ] = sentiment\n",
        "    else :\n",
        "      X_train_paths[ current_file ] = sentiment\n",
        "  \n",
        "  print('\\n')\n",
        "\n",
        "\n"
      ]
    },
    {
      "cell_type": "code",
      "execution_count": 10,
      "metadata": {
        "colab": {
          "base_uri": "https://localhost:8080/"
        },
        "id": "y6e-dKDJO1Bg",
        "outputId": "f69b93cb-90ec-4688-fe81-288542a21c9d"
      },
      "outputs": [
        {
          "data": {
            "text/plain": [
              "{'/content/sorted_data_acl/books/negative.review': 'negative',\n",
              " '/content/sorted_data_acl/books/positive.review': 'positive',\n",
              " '/content/sorted_data_acl/dvd/negative.review': 'negative',\n",
              " '/content/sorted_data_acl/dvd/positive.review': 'positive',\n",
              " '/content/sorted_data_acl/electronics/negative.review': 'negative',\n",
              " '/content/sorted_data_acl/electronics/positive.review': 'positive'}"
            ]
          },
          "execution_count": 10,
          "metadata": {},
          "output_type": "execute_result"
        }
      ],
      "source": [
        "X_train_paths"
      ]
    },
    {
      "cell_type": "code",
      "execution_count": 11,
      "metadata": {
        "colab": {
          "base_uri": "https://localhost:8080/"
        },
        "id": "vEQzuiRKYDen",
        "outputId": "cd8b60b4-6730-4092-f96c-8f675a6cfaf6"
      },
      "outputs": [
        {
          "data": {
            "text/plain": [
              "{'/content/sorted_data_acl/kitchen_&_housewares/negative.review': 'negative',\n",
              " '/content/sorted_data_acl/kitchen_&_housewares/positive.review': 'positive'}"
            ]
          },
          "execution_count": 11,
          "metadata": {},
          "output_type": "execute_result"
        }
      ],
      "source": [
        "X_test_paths"
      ]
    },
    {
      "cell_type": "markdown",
      "metadata": {
        "id": "h-3I3817aCx3"
      },
      "source": [
        "## Loading The Training Reviews"
      ]
    },
    {
      "cell_type": "code",
      "execution_count": 12,
      "metadata": {
        "colab": {
          "base_uri": "https://localhost:8080/"
        },
        "id": "-CpljQtVZteS",
        "outputId": "ba3a210c-eec8-4dd8-f2fa-b957f9786bb2"
      },
      "outputs": [
        {
          "name": "stdout",
          "output_type": "stream",
          "text": [
            "['sphere', 'by', 'michael', 'crichton', 'is', 'an', 'excellant', 'novel', 'this', 'wa']\n"
          ]
        }
      ],
      "source": [
        "def clean_text(text):\n",
        "\n",
        "  no_extra_spaces = re.sub(\"\\s+\", \" \", text)\n",
        "\n",
        "  no_new_lines = re.sub(\"\\n+\", \"\", no_extra_spaces)\n",
        "\n",
        "  only_alphabets = re.sub(\"[^a-zA-Z]\",\" \", no_new_lines)\n",
        "\n",
        "  words = word_tokenize(only_alphabets.lower())\n",
        "\n",
        "  lemmatizer = WordNetLemmatizer()\n",
        "\n",
        "  lemma_words = [lemmatizer.lemmatize(i) for i in words]\n",
        "\n",
        "  return lemma_words\n",
        "\n",
        "def read_file(path):\n",
        "  with open(path) as file:\n",
        "    content = file.read()  \n",
        "    soup = BeautifulSoup(content, \"lxml\")\n",
        "\n",
        "  reviews = soup.find_all(\"review_text\")\n",
        "\n",
        "  reviews_text = [clean_text(review.get_text()) for review in reviews]\n",
        "  return reviews_text\n",
        "\n",
        "\n",
        "\n",
        "test = read_file(\"/content/sorted_data_acl/books/positive.review\")\n",
        "print(test[0][:10])"
      ]
    },
    {
      "cell_type": "code",
      "execution_count": 31,
      "metadata": {
        "colab": {
          "base_uri": "https://localhost:8080/"
        },
        "id": "X5AjPwhspyZw",
        "outputId": "69ca09c2-c5a5-42ce-b34e-1e8a7f4cda22"
      },
      "outputs": [
        {
          "name": "stderr",
          "output_type": "stream",
          "text": [
            "/usr/local/lib/python3.7/dist-packages/ipykernel_launcher.py:9: VisibleDeprecationWarning: Creating an ndarray from ragged nested sequences (which is a list-or-tuple of lists-or-tuples-or ndarrays with different lengths or shapes) is deprecated. If you meant to do this, you must specify 'dtype=object' when creating the ndarray.\n",
            "  if __name__ == '__main__':\n"
          ]
        },
        {
          "name": "stdout",
          "output_type": "stream",
          "text": [
            "Current File Is /content/sorted_data_acl/books/negative.review, Number Of Reviews is 1000 , Number Of Labels is 1000 , Label is 1 \n",
            "Current File Is /content/sorted_data_acl/books/positive.review, Number Of Reviews is 1000 , Number Of Labels is 1000 , Label is 0 \n",
            "Current File Is /content/sorted_data_acl/dvd/negative.review, Number Of Reviews is 1000 , Number Of Labels is 1000 , Label is 1 \n",
            "Current File Is /content/sorted_data_acl/dvd/positive.review, Number Of Reviews is 1000 , Number Of Labels is 1000 , Label is 0 \n",
            "Current File Is /content/sorted_data_acl/electronics/negative.review, Number Of Reviews is 1000 , Number Of Labels is 1000 , Label is 1 \n",
            "Current File Is /content/sorted_data_acl/electronics/positive.review, Number Of Reviews is 1000 , Number Of Labels is 1000 , Label is 0 \n"
          ]
        }
      ],
      "source": [
        "X_train = np.array([])\n",
        "X_test = np.array([])\n",
        "\n",
        "y_train = np.array([])\n",
        "y_test = np.array([])\n",
        "\n",
        "# Loading Train Data\n",
        "\n",
        "for key,value in X_train_paths.items():\n",
        "  reviews = np.array(read_file(key))\n",
        "  labels = np.array([0 if value == \"positive\" else 1 for x in reviews])\n",
        "\n",
        "  print(f'Current File Is {key}, Number Of Reviews is {len(reviews)} , Number Of Labels is {len(labels)} , Label is {labels[0]} ')\n",
        "  \n",
        "  X_train = np.concatenate([X_train, reviews])\n",
        "  y_train = np.concatenate([y_train, labels])\n",
        "\n",
        "\n",
        "\n"
      ]
    },
    {
      "cell_type": "code",
      "execution_count": 32,
      "metadata": {
        "colab": {
          "base_uri": "https://localhost:8080/"
        },
        "id": "scN-ZTxisvRD",
        "outputId": "a3a48db4-7d68-4e61-93ab-3efe87aa5596"
      },
      "outputs": [
        {
          "name": "stdout",
          "output_type": "stream",
          "text": [
            "(6000,)\n",
            "(6000,)\n"
          ]
        }
      ],
      "source": [
        "print(X_train.shape)\n",
        "print(y_train.shape)\n"
      ]
    },
    {
      "cell_type": "code",
      "execution_count": null,
      "metadata": {
        "colab": {
          "base_uri": "https://localhost:8080/"
        },
        "id": "QGNAyJuM5ZwO",
        "outputId": "76a9b51f-b3b6-4a16-e7d2-ac5a3267fc49"
      },
      "outputs": [],
      "source": [
        "X_train[:10]"
      ]
    },
    {
      "cell_type": "markdown",
      "metadata": {
        "id": "YOsQU_Ljv6cH"
      },
      "source": [
        "## Word Embedding"
      ]
    },
    {
      "cell_type": "code",
      "execution_count": 34,
      "metadata": {
        "colab": {
          "base_uri": "https://localhost:8080/"
        },
        "id": "OVCg3GA1v-wt",
        "outputId": "8f20b19f-c35d-459a-fb69-fed7fd5933b5"
      },
      "outputs": [
        {
          "name": "stdout",
          "output_type": "stream",
          "text": [
            "Number of vocabs:  31359\n",
            "Max length of text is:  3485\n"
          ]
        }
      ],
      "source": [
        "unique_words = set()\n",
        "len_max = 0\n",
        "\n",
        "for sent in (X_train):\n",
        "    unique_words.update(sent)\n",
        "    if(len_max < len(sent)):\n",
        "        len_max = len(sent)\n",
        "\n",
        "# length of the list of unique_words \n",
        "print('Number of vocabs: ', len(list(unique_words)))\n",
        "print('Max length of text is: ', len_max)"
      ]
    },
    {
      "cell_type": "code",
      "execution_count": 35,
      "metadata": {
        "id": "1Qh4Qenz4xRj"
      },
      "outputs": [],
      "source": [
        "vocab_size = len(list(unique_words))\n",
        "embedding_dim = 300\n",
        "max_length = len_max\n",
        "trunc_type='post'\n",
        "padding_type='post'\n",
        "oov_tok = \"<OOV>\""
      ]
    },
    {
      "cell_type": "code",
      "execution_count": 36,
      "metadata": {
        "colab": {
          "base_uri": "https://localhost:8080/"
        },
        "id": "ygac-uEv5Mgv",
        "outputId": "e0111d2e-ed28-469f-d076-ffc352ede170"
      },
      "outputs": [
        {
          "data": {
            "text/plain": [
              "array([list(['this', 'book', 'wa', 'horrible', 'if', 'it', 'wa', 'possible', 'to', 'rate', 'it', 'lower', 'than', 'one', 'star', 'i', 'would', 'have', 'i', 'am', 'an', 'avid', 'reader', 'and', 'picked', 'this', 'book', 'up', 'after', 'my', 'mom', 'had', 'gotten', 'it', 'from', 'a', 'friend', 'i', 'read', 'half', 'of', 'it', 'suffering', 'from', 'a', 'headache', 'the', 'entire', 'time', 'and', 'then', 'got', 'to', 'the', 'part', 'about', 'the', 'relationship', 'the', 'year', 'old', 'boy', 'had', 'with', 'a', 'year', 'old', 'man', 'and', 'i', 'lit', 'this', 'book', 'on', 'fire', 'one', 'le', 'copy', 'in', 'the', 'world', 'don', 't', 'waste', 'your', 'money', 'i', 'wish', 'i', 'had', 'the', 'time', 'spent', 'reading', 'this', 'book', 'back', 'so', 'i', 'could', 'use', 'it', 'for', 'better', 'purpose', 'this', 'book', 'wasted', 'my', 'life']),\n",
              "       list(['i', 'like', 'to', 'use', 'the', 'amazon', 'review', 'when', 'purchasing', 'book', 'especially', 'alert', 'for', 'dissenting', 'perception', 'about', 'higly', 'rated', 'item', 'which', 'usually', 'disuades', 'me', 'from', 'a', 'selection', 'so', 'i', 'offer', 'this', 'review', 'that', 'seriously', 'question', 'the', 'popularity', 'of', 'this', 'work', 'i', 'found', 'it', 'smug', 'self', 'serving', 'and', 'self', 'indulgent', 'written', 'by', 'a', 'person', 'with', 'little', 'or', 'no', 'empathy', 'especially', 'for', 'the', 'people', 'he', 'castigates', 'for', 'example', 'his', 'portrayal', 'of', 'the', 'family', 'therapist', 'seems', 'implausible', 'and', 'reach', 'for', 'effect', 'and', 'pander', 'to', 'the', 'shrink', 'bashers', 'of', 'the', 'world', 'this', 'play', 'for', 'effect', 'tone', 'throughout', 'the', 'book', 'wa', 'very', 'distasteful', 'to', 'me']),\n",
              "       list(['this', 'book', 'wa', 'horrible', 'if', 'it', 'wa', 'possible', 'to', 'rate', 'it', 'lower', 'than', 'one', 'star', 'i', 'would', 'have', 'i', 'am', 'an', 'avid', 'reader', 'and', 'picked', 'this', 'book', 'up', 'after', 'my', 'mom', 'had', 'gotten', 'it', 'from', 'a', 'friend', 'i', 'read', 'half', 'of', 'it', 'suffering', 'from', 'a', 'headache', 'the', 'entire', 'time', 'and', 'then', 'got', 'to', 'the', 'part', 'about', 'the', 'relationship', 'the', 'year', 'old', 'boy', 'had', 'with', 'a', 'year', 'old', 'man', 'and', 'i', 'lit', 'this', 'book', 'on', 'fire', 'one', 'le', 'copy', 'in', 'the', 'world', 'don', 't', 'waste', 'your', 'money', 'i', 'wish', 'i', 'had', 'the', 'time', 'spent', 'reading', 'this', 'book', 'back', 'so', 'i', 'could', 'use', 'it', 'for', 'better', 'purpose', 'this', 'book', 'wasted', 'my', 'life']),\n",
              "       ...,\n",
              "       list(['i', 've', 'had', 'this', 'for', 'at', 'least', 'month', 'now', 'we', 've', 'used', 'it', 'with', 'xd', 'sd', 'memory', 'stick', 'pro', 'pro', 'duo', 'with', 'the', 'adapter', 'and', 'a', 'few', 'misc', 'card', 'that', 'friend', 'camera', 'may', 'be', 'using', 'i', 've', 'never', 'had', 'a', 'problem', 'getting', 'card', 'in', 'or', 'out', 'nor', 'any', 'problem', 'with', 'reading', 'the', 'data', 'on', 'them', 'my', 'only', 'possible', 'complaint', 'is', 'that', 'the', 'cap', 'for', 'the', 'usb', 'connector', 'doesn', 't', 'stay', 'on', 'a', 'well', 'a', 'i', 'd', 'like', 'or', 'have', 'a', 'place', 'to', 'store', 'it', 'while', 'the', 'device', 'is', 'in', 'use', 'short', 'of', 'that', 'i', 'can', 't', 'place', 'a', 'single', 'complaint', 'about', 'the', 'unit', 'it', 'ha', 'been', 'a', 'well', 'spent']),\n",
              "       list(['this', 'reciever', 'is', 'great', 'it', 'even', 'get', 'reception', 'on', 'satelites', 'inside', 'my', 'office', 'building', 'i', 'have', 'played', 'with', 'many', 'gps', 'unit', 'and', 'have', 'yet', 'to', 'see', 'a', 'reciever', 'do', 'that', 'this', 'is', 'a', 'definte', 'buy', 'it', 'is', 'extremely', 'accurate', 'also', 'i', 'highly', 'recomend', 'it']),\n",
              "       list(['the', 'gps', 'work', 'in', 'both', 'my', 'dell', 'axim', 'x', 'and', 'in', 'my', 'hp', 'compaq', 'nc', 'with', 'a', 'compact', 'flash', 'adapter', 'card', 'i', 'have', 'used', 'it', 'with', 'm', 'street', 'and', 'trip', 'and', 'arcpad'])],\n",
              "      dtype=object)"
            ]
          },
          "execution_count": 36,
          "metadata": {},
          "output_type": "execute_result"
        }
      ],
      "source": [
        "X_train"
      ]
    },
    {
      "cell_type": "code",
      "execution_count": 37,
      "metadata": {
        "colab": {
          "base_uri": "https://localhost:8080/"
        },
        "id": "XxA56nSZ5H4K",
        "outputId": "fe720ec7-4c04-4b3d-c5ce-2ea9b8792688"
      },
      "outputs": [
        {
          "data": {
            "text/plain": [
              "['this', 'book', 'wa', 'horrible', 'if', 'it', 'wa', 'possible', 'to', 'rate']"
            ]
          },
          "execution_count": 37,
          "metadata": {},
          "output_type": "execute_result"
        }
      ],
      "source": [
        "list(X_train[0][:10])"
      ]
    },
    {
      "cell_type": "code",
      "execution_count": 38,
      "metadata": {
        "id": "Nq6iATdA41qa"
      },
      "outputs": [],
      "source": [
        "tokenizer = Tokenizer(num_words = vocab_size,\n",
        "                      oov_token = oov_tok,\n",
        "                      char_level = False)\n",
        "\n",
        "tokenizer.fit_on_texts(list(X_train))\n",
        "\n",
        "# Training\n",
        "X_train = tokenizer.texts_to_sequences(X_train)\n",
        "X_train = pad_sequences(X_train,\n",
        "                        maxlen = max_length,\n",
        "                        padding = padding_type,\n",
        "                        truncating = trunc_type)\n",
        "\n"
      ]
    },
    {
      "cell_type": "code",
      "execution_count": 39,
      "metadata": {
        "colab": {
          "base_uri": "https://localhost:8080/"
        },
        "id": "0TduazoL42YU",
        "outputId": "8881d7dc-bbc3-4963-ac9f-be27e1e767b9"
      },
      "outputs": [
        {
          "data": {
            "text/plain": [
              "array([[  11,   21,   18, ...,    0,    0,    0],\n",
              "       [   7,   42,    5, ...,    0,    0,    0],\n",
              "       [  11,   21,   18, ...,    0,    0,    0],\n",
              "       ...,\n",
              "       [   7,  114,   61, ...,    0,    0,    0],\n",
              "       [  11, 6304,    9, ...,    0,    0,    0],\n",
              "       [   2,  972,   68, ...,    0,    0,    0]], dtype=int32)"
            ]
          },
          "execution_count": 39,
          "metadata": {},
          "output_type": "execute_result"
        }
      ],
      "source": [
        "X_train"
      ]
    },
    {
      "cell_type": "markdown",
      "metadata": {
        "id": "YH1VB0kg6Dwm"
      },
      "source": [
        "## Model"
      ]
    },
    {
      "cell_type": "markdown",
      "metadata": {
        "id": "CHmxlfsw3Urg"
      },
      "source": [
        "## Using this LSTM Model Will gives us better results but I Cant use it duo to memory error in colab, and it is too slow\n"
      ]
    },
    {
      "cell_type": "code",
      "execution_count": 40,
      "metadata": {
        "id": "1EmcSfoD3RCF"
      },
      "outputs": [],
      "source": [
        "# model = Sequential()\n",
        "# model.add(Embedding(vocab_size,300,input_length = max_length))\n",
        "# model.add(SpatialDropout1D(0.4))\n",
        "# model.add(Bidirectional(LSTM(256, dropout = 0.8, recurrent_dropout=0.8, return_sequences=True)))\n",
        "# model.add(Bidirectional(LSTM(128,dropout = 0.5,recurrent_dropout=0.5,return_sequences=True)))\n",
        "# model.add(Bidirectional(GRU(128,return_sequences=False)))\n",
        "# model.add(Dropout(0.4))\n",
        "# model.add(Dense(2,activation='softmax'))\n"
      ]
    },
    {
      "cell_type": "markdown",
      "metadata": {
        "id": "TUyIzewL3ruc"
      },
      "source": [
        "## 1D CNN Model"
      ]
    },
    {
      "cell_type": "code",
      "execution_count": 41,
      "metadata": {
        "colab": {
          "base_uri": "https://localhost:8080/"
        },
        "id": "C1BnHykFjLbC",
        "outputId": "9b432dbd-7647-4e8c-a874-7faf482e1ab6"
      },
      "outputs": [
        {
          "name": "stdout",
          "output_type": "stream",
          "text": [
            "Model: \"sequential_1\"\n",
            "_________________________________________________________________\n",
            " Layer (type)                Output Shape              Param #   \n",
            "=================================================================\n",
            " embedding_1 (Embedding)     (None, 3485, 300)         9407700   \n",
            "                                                                 \n",
            " conv1d_2 (Conv1D)           (None, 3478, 64)          153664    \n",
            "                                                                 \n",
            " max_pooling1d_2 (MaxPooling  (None, 1739, 64)         0         \n",
            " 1D)                                                             \n",
            "                                                                 \n",
            " conv1d_3 (Conv1D)           (None, 1732, 32)          16416     \n",
            "                                                                 \n",
            " max_pooling1d_3 (MaxPooling  (None, 866, 32)          0         \n",
            " 1D)                                                             \n",
            "                                                                 \n",
            " flatten_1 (Flatten)         (None, 27712)             0         \n",
            "                                                                 \n",
            " dense_2 (Dense)             (None, 10)                277130    \n",
            "                                                                 \n",
            " dense_3 (Dense)             (None, 2)                 22        \n",
            "                                                                 \n",
            "=================================================================\n",
            "Total params: 9,854,932\n",
            "Trainable params: 9,854,932\n",
            "Non-trainable params: 0\n",
            "_________________________________________________________________\n"
          ]
        }
      ],
      "source": [
        "model = Sequential()\n",
        "\n",
        "\n",
        "model.add(Embedding(vocab_size,300,input_length = max_length))\n",
        "model.add(tf.keras.layers.Conv1D(64, 8, activation=\"relu\"))\n",
        "model.add(tf.keras.layers.MaxPooling1D(2))\n",
        "model.add(tf.keras.layers.Conv1D(32, 8, activation=\"relu\"))\n",
        "model.add(tf.keras.layers.MaxPooling1D(2))\n",
        "model.add(tf.keras.layers.Flatten())\n",
        "model.add(tf.keras.layers.Dense(10, activation=\"relu\"))\n",
        "model.add(tf.keras.layers.Dense(2,  activation=\"softmax\"))\n",
        "\n",
        "\n",
        "\n",
        "model.summary()\n"
      ]
    },
    {
      "cell_type": "code",
      "execution_count": 42,
      "metadata": {
        "colab": {
          "base_uri": "https://localhost:8080/",
          "height": 856
        },
        "id": "oeTKyuFdml6i",
        "outputId": "cc0854bf-c163-4fd4-aaec-e8a8dde908f0"
      },
      "outputs": [
        {
          "data": {
            "image/png": "[encoded data removed]",
            "text/plain": [
              "<IPython.core.display.Image object>"
            ]
          },
          "execution_count": 42,
          "metadata": {},
          "output_type": "execute_result"
        }
      ],
      "source": [
        "plot_model(model, to_file='model.png')"
      ]
    },
    {
      "cell_type": "code",
      "execution_count": 43,
      "metadata": {
        "colab": {
          "base_uri": "https://localhost:8080/"
        },
        "id": "upQU8ei9nOgc",
        "outputId": "632b93c4-2c14-4bc1-b9f5-3fdb41973449"
      },
      "outputs": [
        {
          "name": "stdout",
          "output_type": "stream",
          "text": [
            "Epoch 1/40\n",
            "11/11 [==============================] - 8s 665ms/step - loss: 0.7966 - accuracy: 0.5320 - val_loss: 0.9435 - val_accuracy: 0.0000e+00\n",
            "Epoch 2/40\n",
            "11/11 [==============================] - 7s 643ms/step - loss: 0.6890 - accuracy: 0.5556 - val_loss: 0.7864 - val_accuracy: 0.0000e+00\n",
            "Epoch 3/40\n",
            "11/11 [==============================] - 7s 646ms/step - loss: 0.6852 - accuracy: 0.5578 - val_loss: 0.7634 - val_accuracy: 0.0717\n",
            "Epoch 4/40\n",
            "11/11 [==============================] - 7s 649ms/step - loss: 0.6786 - accuracy: 0.5720 - val_loss: 0.8507 - val_accuracy: 0.0367\n",
            "Epoch 5/40\n",
            "11/11 [==============================] - 7s 656ms/step - loss: 0.6365 - accuracy: 0.6222 - val_loss: 1.1467 - val_accuracy: 0.2133\n",
            "Epoch 6/40\n",
            "11/11 [==============================] - 7s 654ms/step - loss: 0.4850 - accuracy: 0.7861 - val_loss: 0.7683 - val_accuracy: 0.6567\n",
            "Epoch 7/40\n",
            "11/11 [==============================] - 7s 657ms/step - loss: 0.2429 - accuracy: 0.9028 - val_loss: 0.9022 - val_accuracy: 0.6883\n",
            "Epoch 8/40\n",
            "11/11 [==============================] - 7s 661ms/step - loss: 0.1022 - accuracy: 0.9646 - val_loss: 1.2883 - val_accuracy: 0.6300\n",
            "Epoch 9/40\n",
            "11/11 [==============================] - 7s 661ms/step - loss: 0.0459 - accuracy: 0.9843 - val_loss: 1.6890 - val_accuracy: 0.5883\n",
            "Epoch 10/40\n",
            "11/11 [==============================] - 7s 664ms/step - loss: 0.0235 - accuracy: 0.9937 - val_loss: 1.9071 - val_accuracy: 0.5983\n",
            "Epoch 11/40\n",
            "11/11 [==============================] - 7s 664ms/step - loss: 0.0126 - accuracy: 0.9969 - val_loss: 1.9368 - val_accuracy: 0.6333\n",
            "Epoch 12/40\n",
            "11/11 [==============================] - 7s 663ms/step - loss: 0.0076 - accuracy: 0.9980 - val_loss: 2.4554 - val_accuracy: 0.5700\n",
            "Epoch 13/40\n",
            "11/11 [==============================] - 7s 662ms/step - loss: 0.0050 - accuracy: 0.9985 - val_loss: 2.3924 - val_accuracy: 0.5933\n",
            "Epoch 14/40\n",
            "11/11 [==============================] - 7s 669ms/step - loss: 0.0035 - accuracy: 0.9991 - val_loss: 2.6833 - val_accuracy: 0.5800\n",
            "Epoch 15/40\n",
            "11/11 [==============================] - 7s 670ms/step - loss: 0.0026 - accuracy: 0.9991 - val_loss: 2.6554 - val_accuracy: 0.5900\n",
            "Epoch 16/40\n",
            "11/11 [==============================] - 7s 670ms/step - loss: 0.0021 - accuracy: 0.9998 - val_loss: 2.8238 - val_accuracy: 0.5767\n",
            "Epoch 17/40\n",
            "11/11 [==============================] - 7s 671ms/step - loss: 0.0014 - accuracy: 0.9998 - val_loss: 2.7744 - val_accuracy: 0.6000\n",
            "Epoch 18/40\n",
            "11/11 [==============================] - 7s 671ms/step - loss: 9.5522e-04 - accuracy: 1.0000 - val_loss: 3.0399 - val_accuracy: 0.5817\n",
            "Epoch 19/40\n",
            "11/11 [==============================] - 7s 673ms/step - loss: 7.1848e-04 - accuracy: 1.0000 - val_loss: 3.1069 - val_accuracy: 0.5817\n",
            "Epoch 20/40\n",
            "11/11 [==============================] - 7s 674ms/step - loss: 5.4062e-04 - accuracy: 1.0000 - val_loss: 3.1595 - val_accuracy: 0.5867\n",
            "Epoch 21/40\n",
            "11/11 [==============================] - 8s 690ms/step - loss: 4.2248e-04 - accuracy: 1.0000 - val_loss: 3.2804 - val_accuracy: 0.5817\n",
            "Epoch 22/40\n",
            "11/11 [==============================] - 7s 676ms/step - loss: 3.3192e-04 - accuracy: 1.0000 - val_loss: 3.2840 - val_accuracy: 0.6017\n",
            "Epoch 23/40\n",
            "11/11 [==============================] - 7s 677ms/step - loss: 2.5784e-04 - accuracy: 1.0000 - val_loss: 3.4076 - val_accuracy: 0.5883\n",
            "Epoch 24/40\n",
            "11/11 [==============================] - 7s 679ms/step - loss: 2.0365e-04 - accuracy: 1.0000 - val_loss: 3.4478 - val_accuracy: 0.6017\n",
            "Epoch 25/40\n",
            "11/11 [==============================] - 7s 678ms/step - loss: 1.6687e-04 - accuracy: 1.0000 - val_loss: 3.5374 - val_accuracy: 0.5950\n",
            "Epoch 26/40\n",
            "11/11 [==============================] - 7s 677ms/step - loss: 1.3665e-04 - accuracy: 1.0000 - val_loss: 3.6094 - val_accuracy: 0.5950\n",
            "Epoch 27/40\n",
            "11/11 [==============================] - 7s 678ms/step - loss: 1.1344e-04 - accuracy: 1.0000 - val_loss: 3.6686 - val_accuracy: 0.5950\n",
            "Epoch 28/40\n",
            "11/11 [==============================] - 7s 679ms/step - loss: 9.6230e-05 - accuracy: 1.0000 - val_loss: 3.7028 - val_accuracy: 0.5950\n",
            "Epoch 29/40\n",
            "11/11 [==============================] - 8s 682ms/step - loss: 8.3685e-05 - accuracy: 1.0000 - val_loss: 3.7084 - val_accuracy: 0.5967\n",
            "Epoch 30/40\n",
            "11/11 [==============================] - 7s 681ms/step - loss: 7.3252e-05 - accuracy: 1.0000 - val_loss: 3.7245 - val_accuracy: 0.5983\n",
            "Epoch 31/40\n",
            "11/11 [==============================] - 8s 682ms/step - loss: 6.4632e-05 - accuracy: 1.0000 - val_loss: 3.7626 - val_accuracy: 0.5967\n",
            "Epoch 32/40\n",
            "11/11 [==============================] - 8s 680ms/step - loss: 5.6654e-05 - accuracy: 1.0000 - val_loss: 3.8333 - val_accuracy: 0.5950\n",
            "Epoch 33/40\n",
            "11/11 [==============================] - 8s 682ms/step - loss: 5.1626e-05 - accuracy: 1.0000 - val_loss: 3.8865 - val_accuracy: 0.5933\n",
            "Epoch 34/40\n",
            "11/11 [==============================] - 8s 682ms/step - loss: 4.6130e-05 - accuracy: 1.0000 - val_loss: 3.8646 - val_accuracy: 0.5983\n",
            "Epoch 35/40\n",
            "11/11 [==============================] - 8s 682ms/step - loss: 4.2410e-05 - accuracy: 1.0000 - val_loss: 3.8949 - val_accuracy: 0.5967\n",
            "Epoch 36/40\n",
            "11/11 [==============================] - 8s 681ms/step - loss: 3.8247e-05 - accuracy: 1.0000 - val_loss: 3.9562 - val_accuracy: 0.5933\n",
            "Epoch 37/40\n",
            "11/11 [==============================] - 8s 683ms/step - loss: 3.5033e-05 - accuracy: 1.0000 - val_loss: 4.0028 - val_accuracy: 0.5917\n",
            "Epoch 38/40\n",
            "11/11 [==============================] - 8s 684ms/step - loss: 3.2692e-05 - accuracy: 1.0000 - val_loss: 4.0121 - val_accuracy: 0.5917\n",
            "Epoch 39/40\n",
            "11/11 [==============================] - 8s 683ms/step - loss: 3.0137e-05 - accuracy: 1.0000 - val_loss: 4.0174 - val_accuracy: 0.5917\n",
            "Epoch 40/40\n",
            "11/11 [==============================] - 8s 683ms/step - loss: 2.7984e-05 - accuracy: 1.0000 - val_loss: 4.0556 - val_accuracy: 0.5917\n"
          ]
        }
      ],
      "source": [
        "model.compile(loss='sparse_categorical_crossentropy', optimizer='adam',\n",
        "              metrics=[\"accuracy\"])\n",
        "\n",
        "history = model.fit(X_train, y_train, batch_size=512, epochs=40, verbose = 1  , validation_split=0.1)\n"
      ]
    },
    {
      "cell_type": "markdown",
      "metadata": {
        "id": "NW8qNXM7zHfv"
      },
      "source": [
        "## Plotting Model`s Accuracy and Loss"
      ]
    },
    {
      "cell_type": "code",
      "execution_count": 44,
      "metadata": {
        "colab": {
          "base_uri": "https://localhost:8080/",
          "height": 295
        },
        "id": "p7TMqwXaoiJq",
        "outputId": "e0a120db-1392-41b5-dc47-b8a6512d420c"
      },
      "outputs": [
        {
          "data": {
            "image/png": "[encoded data removed]",
            "text/plain": [
              "<Figure size 432x288 with 1 Axes>"
            ]
          },
          "metadata": {
            "needs_background": "light"
          },
          "output_type": "display_data"
        }
      ],
      "source": [
        "loss_train = history.history['loss']\n",
        "epochs = range(40)\n",
        "plt.plot(epochs, loss_train, 'g', label='Training loss')\n",
        "plt.title('Training loss')\n",
        "plt.xlabel('Epochs')\n",
        "plt.ylabel('Loss')\n",
        "plt.legend()\n",
        "plt.show()"
      ]
    },
    {
      "cell_type": "code",
      "execution_count": 45,
      "metadata": {
        "colab": {
          "base_uri": "https://localhost:8080/",
          "height": 295
        },
        "id": "LyySgbH7ojO7",
        "outputId": "2c7a8b5d-cb9d-4a10-cc0f-59ee024843dd"
      },
      "outputs": [
        {
          "data": {
            "image/png": "[encoded data removed]",
            "text/plain": [
              "<Figure size 432x288 with 1 Axes>"
            ]
          },
          "metadata": {
            "needs_background": "light"
          },
          "output_type": "display_data"
        }
      ],
      "source": [
        "accuracy_train = history.history['accuracy']\n",
        "epochs = range(40)\n",
        "plt.plot(epochs, accuracy_train, 'g', label='Training Accuracy')\n",
        "plt.title('Training Accuracy')\n",
        "plt.xlabel('Epochs')\n",
        "plt.ylabel('Accuracy')\n",
        "plt.legend()\n",
        "plt.show()"
      ]
    },
    {
      "cell_type": "markdown",
      "metadata": {
        "id": "dr6wZjErzDgb"
      },
      "source": [
        "## Loading The Testing Reviews"
      ]
    },
    {
      "cell_type": "code",
      "execution_count": 46,
      "metadata": {
        "colab": {
          "base_uri": "https://localhost:8080/"
        },
        "id": "a0OUI0oHfvdq",
        "outputId": "663c79a1-3dcf-4228-936f-0deb09fb7386"
      },
      "outputs": [
        {
          "name": "stderr",
          "output_type": "stream",
          "text": [
            "/usr/local/lib/python3.7/dist-packages/ipykernel_launcher.py:4: VisibleDeprecationWarning: Creating an ndarray from ragged nested sequences (which is a list-or-tuple of lists-or-tuples-or ndarrays with different lengths or shapes) is deprecated. If you meant to do this, you must specify 'dtype=object' when creating the ndarray.\n",
            "  after removing the cwd from sys.path.\n"
          ]
        },
        {
          "name": "stdout",
          "output_type": "stream",
          "text": [
            "Current File Is /content/sorted_data_acl/kitchen_&_housewares/negative.review, Number Of Reviews is 1000 , Number Of Labels is 1000 , Label is 1 \n",
            "Current File Is /content/sorted_data_acl/kitchen_&_housewares/positive.review, Number Of Reviews is 1000 , Number Of Labels is 1000 , Label is 0 \n"
          ]
        }
      ],
      "source": [
        "# Loading Test Data\n",
        "\n",
        "for key,value in X_test_paths.items():\n",
        "  reviews = np.array(read_file(key))\n",
        "  labels = np.array([0 if value == \"positive\" else 1 for x in reviews])\n",
        "\n",
        "  print(f'Current File Is {key}, Number Of Reviews is {len(reviews)} , Number Of Labels is {len(labels)} , Label is {labels[0]} ')\n",
        "  \n",
        "  X_test = np.concatenate([X_test, reviews])\n",
        "  y_test = np.concatenate([y_test, labels])  \n"
      ]
    },
    {
      "cell_type": "code",
      "execution_count": 47,
      "metadata": {
        "colab": {
          "base_uri": "https://localhost:8080/"
        },
        "id": "ym-M9TX0fr1-",
        "outputId": "670dc936-8f79-4fde-de09-cfba96491782"
      },
      "outputs": [
        {
          "name": "stdout",
          "output_type": "stream",
          "text": [
            "(2000, 3485)\n",
            "(2000,)\n"
          ]
        }
      ],
      "source": [
        "X_test = tokenizer.texts_to_sequences(X_test)\n",
        "X_test = pad_sequences(X_test,\n",
        "                       maxlen = max_length,\n",
        "                       padding = padding_type,\n",
        "                       truncating = trunc_type)\n",
        "\n",
        "print(X_test.shape)\n",
        "print(y_test.shape)"
      ]
    },
    {
      "cell_type": "markdown",
      "metadata": {
        "id": "3i-sT0J80aTc"
      },
      "source": [
        "## Evaluate The Test Data"
      ]
    },
    {
      "cell_type": "code",
      "execution_count": 48,
      "metadata": {
        "colab": {
          "base_uri": "https://localhost:8080/"
        },
        "id": "swmlv16imHmm",
        "outputId": "ba681b35-7d23-4ce2-d98e-49bbfdf2ee47"
      },
      "outputs": [
        {
          "name": "stdout",
          "output_type": "stream",
          "text": [
            "Test Accuracy: 72.299999\n"
          ]
        }
      ],
      "source": [
        "loss, acc = model.evaluate(X_test, y_test, verbose=0)\n",
        "\n",
        "print('Test Accuracy: %f' % (acc*100))"
      ]
    },
    {
      "cell_type": "markdown",
      "metadata": {
        "id": "uDq0U9I-zMa4"
      },
      "source": [
        "# Then This Model Accuracy on the unseen reviews is 72.3"
      ]
    }
  ],
  "metadata": {
    "accelerator": "GPU",
    "colab": {
      "name": "nlp_bonus.ipynb",
      "provenance": []
    },
    "kernelspec": {
      "display_name": "Python 3",
      "name": "python3"
    },
    "language_info": {
      "name": "python"
    }
  },
  "nbformat": 4,
  "nbformat_minor": 0
}
